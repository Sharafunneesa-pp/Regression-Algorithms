{
 "cells": [
  {
   "cell_type": "code",
   "execution_count": null,
   "id": "b59ac988",
   "metadata": {},
   "outputs": [],
   "source": [
    "import numpy as np\n",
    "import pandas as pd\n",
    "import matplotlib.pyplot as plt\n",
    "import seaborn as sns\n",
    "import warnings\n",
    "warnings.filterwarnings(\"ignore\")"
   ]
  },
  {
   "cell_type": "code",
   "execution_count": null,
   "id": "f1894be3",
   "metadata": {
    "scrolled": false
   },
   "outputs": [],
   "source": [
    "data=pd.read_csv(\"house.csv\")"
   ]
  },
  {
   "cell_type": "code",
   "execution_count": null,
   "id": "c28c0fb6",
   "metadata": {},
   "outputs": [],
   "source": [
    "data"
   ]
  },
  {
   "cell_type": "code",
   "execution_count": null,
   "id": "3db25806",
   "metadata": {},
   "outputs": [],
   "source": [
    "x=data.drop(columns=[\"price\",\"id\",\"date\"],axis=1)\n",
    "y=data[\"price\"]"
   ]
  },
  {
   "cell_type": "code",
   "execution_count": null,
   "id": "ebcd30ed",
   "metadata": {},
   "outputs": [],
   "source": [
    "x"
   ]
  },
  {
   "cell_type": "code",
   "execution_count": null,
   "id": "aa8975cc",
   "metadata": {},
   "outputs": [],
   "source": [
    "from sklearn.model_selection import train_test_split\n",
    "xtrain,xtest,ytrain,ytest=train_test_split(x,y,test_size=0.2,random_state=None)"
   ]
  },
  {
   "cell_type": "code",
   "execution_count": null,
   "id": "b4639703",
   "metadata": {},
   "outputs": [],
   "source": [
    "from sklearn.linear_model import LinearRegression\n",
    "from sklearn.model_selection import cross_val_score\n",
    "model=LinearRegression()"
   ]
  },
  {
   "cell_type": "code",
   "execution_count": null,
   "id": "db389b9f",
   "metadata": {},
   "outputs": [],
   "source": [
    "# mse=cross_val_score(model,xtrain,ytrain,scoring='neg_mean_squared_error',cv=5)\n",
    "# mse"
   ]
  },
  {
   "cell_type": "code",
   "execution_count": null,
   "id": "59ca61c2",
   "metadata": {},
   "outputs": [],
   "source": [
    "# mse.mean()"
   ]
  },
  {
   "cell_type": "code",
   "execution_count": null,
   "id": "9143a824",
   "metadata": {},
   "outputs": [],
   "source": [
    "# mse.predict(xtest)\n",
    "model.fit(xtrain,ytrain)"
   ]
  },
  {
   "cell_type": "code",
   "execution_count": null,
   "id": "c74a7861",
   "metadata": {},
   "outputs": [],
   "source": [
    "ypred=model.predict(xtest)"
   ]
  },
  {
   "cell_type": "code",
   "execution_count": null,
   "id": "84081088",
   "metadata": {},
   "outputs": [],
   "source": [
    "ypred"
   ]
  },
  {
   "cell_type": "code",
   "execution_count": null,
   "id": "f55c1587",
   "metadata": {},
   "outputs": [],
   "source": [
    "from sklearn.metrics import r2_score\n",
    "r2_score(ypred,ytest)"
   ]
  },
  {
   "cell_type": "code",
   "execution_count": null,
   "id": "68a4f3c8",
   "metadata": {},
   "outputs": [],
   "source": [
    "#ridge\n",
    "\n",
    "from sklearn.linear_model import Ridge\n",
    "from sklearn.model_selection import GridSearchCV\n",
    "ridge=Ridge()\n",
    "params={'alpha':[1e-15,1e-10,1e-8,1e-3,1e-2,1,2,3,4,5,7,8,]}\n"
   ]
  },
  {
   "cell_type": "code",
   "execution_count": null,
   "id": "10b1abe8",
   "metadata": {},
   "outputs": [],
   "source": [
    "ridge_reg=GridSearchCV(ridge,params,scoring=\"neg_mean_squared_error\",cv=5)"
   ]
  },
  {
   "cell_type": "code",
   "execution_count": null,
   "id": "0ecb5888",
   "metadata": {},
   "outputs": [],
   "source": [
    "ridge_reg.fit(xtrain,ytrain)"
   ]
  },
  {
   "cell_type": "code",
   "execution_count": null,
   "id": "adb2035a",
   "metadata": {},
   "outputs": [],
   "source": [
    "ridge_reg.best_params_"
   ]
  },
  {
   "cell_type": "code",
   "execution_count": null,
   "id": "11d1bd36",
   "metadata": {},
   "outputs": [],
   "source": []
  },
  {
   "cell_type": "code",
   "execution_count": null,
   "id": "099fad4a",
   "metadata": {},
   "outputs": [],
   "source": [
    "ridge_reg.best_score_"
   ]
  },
  {
   "cell_type": "code",
   "execution_count": null,
   "id": "cb2bff9b",
   "metadata": {},
   "outputs": [],
   "source": [
    "re=ridge_reg.predict(xtest)"
   ]
  },
  {
   "cell_type": "code",
   "execution_count": null,
   "id": "c4901e4e",
   "metadata": {},
   "outputs": [],
   "source": [
    "r2_score(re,ytest)"
   ]
  },
  {
   "cell_type": "code",
   "execution_count": null,
   "id": "5d557ceb",
   "metadata": {},
   "outputs": [],
   "source": [
    "from sklearn.linear_model import Lasso\n",
    "from sklearn.model_selection import GridSearchCV\n",
    "lasso=Lasso()\n",
    "params={'alpha':[1e-15,1e-10,1e-8,1e-3,1e-2,1,2,3,4,5,7,8,]}\n"
   ]
  },
  {
   "cell_type": "code",
   "execution_count": null,
   "id": "c2f727d3",
   "metadata": {},
   "outputs": [],
   "source": [
    "lasso_reg=GridSearchCV(lasso,params,scoring=\"neg_mean_squared_error\",cv=5)"
   ]
  },
  {
   "cell_type": "code",
   "execution_count": null,
   "id": "c6dbb13b",
   "metadata": {},
   "outputs": [],
   "source": [
    "lasso_reg.fit(xtrain,ytrain)"
   ]
  },
  {
   "cell_type": "code",
   "execution_count": null,
   "id": "c2d76c63",
   "metadata": {
    "scrolled": true
   },
   "outputs": [],
   "source": [
    "print(lasso_reg.best_params_)"
   ]
  },
  {
   "cell_type": "code",
   "execution_count": null,
   "id": "f8e9cf83",
   "metadata": {},
   "outputs": [],
   "source": [
    "lasso_reg.best_score_"
   ]
  },
  {
   "cell_type": "code",
   "execution_count": null,
   "id": "b58a7f4e",
   "metadata": {},
   "outputs": [],
   "source": [
    "res=lasso_reg.predict(xtest)"
   ]
  },
  {
   "cell_type": "code",
   "execution_count": null,
   "id": "0b89dd20",
   "metadata": {},
   "outputs": [],
   "source": [
    "r2_score(res,ytest)"
   ]
  },
  {
   "cell_type": "code",
   "execution_count": null,
   "id": "63bfb533",
   "metadata": {},
   "outputs": [],
   "source": []
  }
 ],
 "metadata": {
  "kernelspec": {
   "display_name": "Python 3 (ipykernel)",
   "language": "python",
   "name": "python3"
  },
  "language_info": {
   "codemirror_mode": {
    "name": "ipython",
    "version": 3
   },
   "file_extension": ".py",
   "mimetype": "text/x-python",
   "name": "python",
   "nbconvert_exporter": "python",
   "pygments_lexer": "ipython3",
   "version": "3.11.5"
  }
 },
 "nbformat": 4,
 "nbformat_minor": 5
}
