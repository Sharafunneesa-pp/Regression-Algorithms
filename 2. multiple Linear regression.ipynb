{
 "cells": [
  {
   "cell_type": "code",
   "execution_count": 55,
   "id": "7483f297",
   "metadata": {},
   "outputs": [
    {
     "data": {
      "text/html": [
       "<div>\n",
       "<style scoped>\n",
       "    .dataframe tbody tr th:only-of-type {\n",
       "        vertical-align: middle;\n",
       "    }\n",
       "\n",
       "    .dataframe tbody tr th {\n",
       "        vertical-align: top;\n",
       "    }\n",
       "\n",
       "    .dataframe thead th {\n",
       "        text-align: right;\n",
       "    }\n",
       "</style>\n",
       "<table border=\"1\" class=\"dataframe\">\n",
       "  <thead>\n",
       "    <tr style=\"text-align: right;\">\n",
       "      <th></th>\n",
       "      <th>CRIM</th>\n",
       "      <th>ZN</th>\n",
       "      <th>INDUS</th>\n",
       "      <th>CHAS</th>\n",
       "      <th>NOX</th>\n",
       "      <th>RM</th>\n",
       "      <th>AGE</th>\n",
       "      <th>DIS</th>\n",
       "      <th>RAD</th>\n",
       "      <th>TAX</th>\n",
       "      <th>PTRATIO</th>\n",
       "      <th>B</th>\n",
       "      <th>LSTAT</th>\n",
       "      <th>MEDV</th>\n",
       "    </tr>\n",
       "  </thead>\n",
       "  <tbody>\n",
       "    <tr>\n",
       "      <th>0</th>\n",
       "      <td>0.00632</td>\n",
       "      <td>18.0</td>\n",
       "      <td>2.31</td>\n",
       "      <td>0.0</td>\n",
       "      <td>0.538</td>\n",
       "      <td>6.575</td>\n",
       "      <td>65.2</td>\n",
       "      <td>4.0900</td>\n",
       "      <td>1</td>\n",
       "      <td>296</td>\n",
       "      <td>15.3</td>\n",
       "      <td>396.90</td>\n",
       "      <td>4.98</td>\n",
       "      <td>24.0</td>\n",
       "    </tr>\n",
       "    <tr>\n",
       "      <th>1</th>\n",
       "      <td>0.02731</td>\n",
       "      <td>0.0</td>\n",
       "      <td>7.07</td>\n",
       "      <td>0.0</td>\n",
       "      <td>0.469</td>\n",
       "      <td>6.421</td>\n",
       "      <td>78.9</td>\n",
       "      <td>4.9671</td>\n",
       "      <td>2</td>\n",
       "      <td>242</td>\n",
       "      <td>17.8</td>\n",
       "      <td>396.90</td>\n",
       "      <td>9.14</td>\n",
       "      <td>21.6</td>\n",
       "    </tr>\n",
       "    <tr>\n",
       "      <th>2</th>\n",
       "      <td>0.02729</td>\n",
       "      <td>0.0</td>\n",
       "      <td>7.07</td>\n",
       "      <td>0.0</td>\n",
       "      <td>0.469</td>\n",
       "      <td>7.185</td>\n",
       "      <td>61.1</td>\n",
       "      <td>4.9671</td>\n",
       "      <td>2</td>\n",
       "      <td>242</td>\n",
       "      <td>17.8</td>\n",
       "      <td>392.83</td>\n",
       "      <td>4.03</td>\n",
       "      <td>34.7</td>\n",
       "    </tr>\n",
       "    <tr>\n",
       "      <th>3</th>\n",
       "      <td>0.03237</td>\n",
       "      <td>0.0</td>\n",
       "      <td>2.18</td>\n",
       "      <td>0.0</td>\n",
       "      <td>0.458</td>\n",
       "      <td>6.998</td>\n",
       "      <td>45.8</td>\n",
       "      <td>6.0622</td>\n",
       "      <td>3</td>\n",
       "      <td>222</td>\n",
       "      <td>18.7</td>\n",
       "      <td>394.63</td>\n",
       "      <td>2.94</td>\n",
       "      <td>33.4</td>\n",
       "    </tr>\n",
       "    <tr>\n",
       "      <th>4</th>\n",
       "      <td>0.06905</td>\n",
       "      <td>0.0</td>\n",
       "      <td>2.18</td>\n",
       "      <td>0.0</td>\n",
       "      <td>0.458</td>\n",
       "      <td>7.147</td>\n",
       "      <td>54.2</td>\n",
       "      <td>6.0622</td>\n",
       "      <td>3</td>\n",
       "      <td>222</td>\n",
       "      <td>18.7</td>\n",
       "      <td>396.90</td>\n",
       "      <td>NaN</td>\n",
       "      <td>36.2</td>\n",
       "    </tr>\n",
       "  </tbody>\n",
       "</table>\n",
       "</div>"
      ],
      "text/plain": [
       "      CRIM    ZN  INDUS  CHAS    NOX     RM   AGE     DIS  RAD  TAX  PTRATIO  \\\n",
       "0  0.00632  18.0   2.31   0.0  0.538  6.575  65.2  4.0900    1  296     15.3   \n",
       "1  0.02731   0.0   7.07   0.0  0.469  6.421  78.9  4.9671    2  242     17.8   \n",
       "2  0.02729   0.0   7.07   0.0  0.469  7.185  61.1  4.9671    2  242     17.8   \n",
       "3  0.03237   0.0   2.18   0.0  0.458  6.998  45.8  6.0622    3  222     18.7   \n",
       "4  0.06905   0.0   2.18   0.0  0.458  7.147  54.2  6.0622    3  222     18.7   \n",
       "\n",
       "        B  LSTAT  MEDV  \n",
       "0  396.90   4.98  24.0  \n",
       "1  396.90   9.14  21.6  \n",
       "2  392.83   4.03  34.7  \n",
       "3  394.63   2.94  33.4  \n",
       "4  396.90    NaN  36.2  "
      ]
     },
     "execution_count": 55,
     "metadata": {},
     "output_type": "execute_result"
    }
   ],
   "source": [
    "import numpy as np\n",
    "import pandas as pd\n",
    "import matplotlib.pyplot as plt\n",
    "import seaborn as sns\n",
    "data=pd.read_csv(\"HousingData.csv\")\n",
    "data.head()"
   ]
  },
  {
   "cell_type": "code",
   "execution_count": 56,
   "id": "50ade987",
   "metadata": {},
   "outputs": [
    {
     "data": {
      "text/plain": [
       "CRIM       20\n",
       "ZN         20\n",
       "INDUS      20\n",
       "CHAS       20\n",
       "NOX         0\n",
       "RM          0\n",
       "AGE        20\n",
       "DIS         0\n",
       "RAD         0\n",
       "TAX         0\n",
       "PTRATIO     0\n",
       "B           0\n",
       "LSTAT      20\n",
       "MEDV        0\n",
       "dtype: int64"
      ]
     },
     "execution_count": 56,
     "metadata": {},
     "output_type": "execute_result"
    }
   ],
   "source": [
    "data.isnull().sum()"
   ]
  },
  {
   "cell_type": "code",
   "execution_count": 57,
   "id": "d978b024",
   "metadata": {},
   "outputs": [],
   "source": [
    "data.dropna(inplace=True)"
   ]
  },
  {
   "cell_type": "code",
   "execution_count": 58,
   "id": "b739ea4a",
   "metadata": {
    "scrolled": true
   },
   "outputs": [
    {
     "data": {
      "text/plain": [
       "pandas.core.frame.DataFrame"
      ]
     },
     "execution_count": 58,
     "metadata": {},
     "output_type": "execute_result"
    }
   ],
   "source": [
    "x=data.drop(columns=[\"MEDV\"],axis=1)\n",
    "type(x)"
   ]
  },
  {
   "cell_type": "code",
   "execution_count": 59,
   "id": "d80338b8",
   "metadata": {},
   "outputs": [
    {
     "data": {
      "text/plain": [
       "pandas.core.series.Series"
      ]
     },
     "execution_count": 59,
     "metadata": {},
     "output_type": "execute_result"
    }
   ],
   "source": [
    "y=data[\"MEDV\"]\n",
    "type(y)"
   ]
  },
  {
   "cell_type": "code",
   "execution_count": 60,
   "id": "7bb7bed3",
   "metadata": {},
   "outputs": [],
   "source": [
    "from sklearn.model_selection import train_test_split\n",
    "xtrain,xtest,ytrain,ytest=train_test_split(x,y,test_size=0.25,random_state=41)"
   ]
  },
  {
   "cell_type": "code",
   "execution_count": 61,
   "id": "a1025194",
   "metadata": {},
   "outputs": [
    {
     "data": {
      "text/html": [
       "<div>\n",
       "<style scoped>\n",
       "    .dataframe tbody tr th:only-of-type {\n",
       "        vertical-align: middle;\n",
       "    }\n",
       "\n",
       "    .dataframe tbody tr th {\n",
       "        vertical-align: top;\n",
       "    }\n",
       "\n",
       "    .dataframe thead th {\n",
       "        text-align: right;\n",
       "    }\n",
       "</style>\n",
       "<table border=\"1\" class=\"dataframe\">\n",
       "  <thead>\n",
       "    <tr style=\"text-align: right;\">\n",
       "      <th></th>\n",
       "      <th>CRIM</th>\n",
       "      <th>ZN</th>\n",
       "      <th>INDUS</th>\n",
       "      <th>CHAS</th>\n",
       "      <th>NOX</th>\n",
       "      <th>RM</th>\n",
       "      <th>AGE</th>\n",
       "      <th>DIS</th>\n",
       "      <th>RAD</th>\n",
       "      <th>TAX</th>\n",
       "      <th>PTRATIO</th>\n",
       "      <th>B</th>\n",
       "      <th>LSTAT</th>\n",
       "      <th>MEDV</th>\n",
       "    </tr>\n",
       "  </thead>\n",
       "  <tbody>\n",
       "    <tr>\n",
       "      <th>CRIM</th>\n",
       "      <td>1.000000</td>\n",
       "      <td>-0.188075</td>\n",
       "      <td>0.391552</td>\n",
       "      <td>-0.051970</td>\n",
       "      <td>0.416160</td>\n",
       "      <td>-0.227170</td>\n",
       "      <td>0.341311</td>\n",
       "      <td>-0.365052</td>\n",
       "      <td>0.608667</td>\n",
       "      <td>0.560841</td>\n",
       "      <td>0.265428</td>\n",
       "      <td>-0.386254</td>\n",
       "      <td>0.461906</td>\n",
       "      <td>-0.397230</td>\n",
       "    </tr>\n",
       "    <tr>\n",
       "      <th>ZN</th>\n",
       "      <td>-0.188075</td>\n",
       "      <td>1.000000</td>\n",
       "      <td>-0.521256</td>\n",
       "      <td>-0.033357</td>\n",
       "      <td>-0.515660</td>\n",
       "      <td>0.343210</td>\n",
       "      <td>-0.568174</td>\n",
       "      <td>0.645359</td>\n",
       "      <td>-0.298773</td>\n",
       "      <td>-0.305768</td>\n",
       "      <td>-0.422164</td>\n",
       "      <td>0.169894</td>\n",
       "      <td>-0.415041</td>\n",
       "      <td>0.406822</td>\n",
       "    </tr>\n",
       "    <tr>\n",
       "      <th>INDUS</th>\n",
       "      <td>0.391552</td>\n",
       "      <td>-0.521256</td>\n",
       "      <td>1.000000</td>\n",
       "      <td>0.049820</td>\n",
       "      <td>0.762737</td>\n",
       "      <td>-0.403068</td>\n",
       "      <td>0.642387</td>\n",
       "      <td>-0.696569</td>\n",
       "      <td>0.591944</td>\n",
       "      <td>0.734204</td>\n",
       "      <td>0.395691</td>\n",
       "      <td>-0.344788</td>\n",
       "      <td>0.598156</td>\n",
       "      <td>-0.510829</td>\n",
       "    </tr>\n",
       "    <tr>\n",
       "      <th>CHAS</th>\n",
       "      <td>-0.051970</td>\n",
       "      <td>-0.033357</td>\n",
       "      <td>0.049820</td>\n",
       "      <td>1.000000</td>\n",
       "      <td>0.076661</td>\n",
       "      <td>0.095308</td>\n",
       "      <td>0.072644</td>\n",
       "      <td>-0.095037</td>\n",
       "      <td>0.014102</td>\n",
       "      <td>-0.026513</td>\n",
       "      <td>-0.104995</td>\n",
       "      <td>0.068913</td>\n",
       "      <td>-0.037113</td>\n",
       "      <td>0.173701</td>\n",
       "    </tr>\n",
       "    <tr>\n",
       "      <th>NOX</th>\n",
       "      <td>0.416160</td>\n",
       "      <td>-0.515660</td>\n",
       "      <td>0.762737</td>\n",
       "      <td>0.076661</td>\n",
       "      <td>1.000000</td>\n",
       "      <td>-0.316563</td>\n",
       "      <td>0.732540</td>\n",
       "      <td>-0.768137</td>\n",
       "      <td>0.628170</td>\n",
       "      <td>0.679824</td>\n",
       "      <td>0.210216</td>\n",
       "      <td>-0.384257</td>\n",
       "      <td>0.593655</td>\n",
       "      <td>-0.459054</td>\n",
       "    </tr>\n",
       "    <tr>\n",
       "      <th>RM</th>\n",
       "      <td>-0.227170</td>\n",
       "      <td>0.343210</td>\n",
       "      <td>-0.403068</td>\n",
       "      <td>0.095308</td>\n",
       "      <td>-0.316563</td>\n",
       "      <td>1.000000</td>\n",
       "      <td>-0.248670</td>\n",
       "      <td>0.218713</td>\n",
       "      <td>-0.236057</td>\n",
       "      <td>-0.320561</td>\n",
       "      <td>-0.390686</td>\n",
       "      <td>0.123320</td>\n",
       "      <td>-0.636226</td>\n",
       "      <td>0.723951</td>\n",
       "    </tr>\n",
       "    <tr>\n",
       "      <th>AGE</th>\n",
       "      <td>0.341311</td>\n",
       "      <td>-0.568174</td>\n",
       "      <td>0.642387</td>\n",
       "      <td>0.072644</td>\n",
       "      <td>0.732540</td>\n",
       "      <td>-0.248670</td>\n",
       "      <td>1.000000</td>\n",
       "      <td>-0.753547</td>\n",
       "      <td>0.443585</td>\n",
       "      <td>0.504472</td>\n",
       "      <td>0.264968</td>\n",
       "      <td>-0.281990</td>\n",
       "      <td>0.601137</td>\n",
       "      <td>-0.407470</td>\n",
       "    </tr>\n",
       "    <tr>\n",
       "      <th>DIS</th>\n",
       "      <td>-0.365052</td>\n",
       "      <td>0.645359</td>\n",
       "      <td>-0.696569</td>\n",
       "      <td>-0.095037</td>\n",
       "      <td>-0.768137</td>\n",
       "      <td>0.218713</td>\n",
       "      <td>-0.753547</td>\n",
       "      <td>1.000000</td>\n",
       "      <td>-0.477075</td>\n",
       "      <td>-0.529603</td>\n",
       "      <td>-0.228840</td>\n",
       "      <td>0.285168</td>\n",
       "      <td>-0.505036</td>\n",
       "      <td>0.279547</td>\n",
       "    </tr>\n",
       "    <tr>\n",
       "      <th>RAD</th>\n",
       "      <td>0.608667</td>\n",
       "      <td>-0.298773</td>\n",
       "      <td>0.591944</td>\n",
       "      <td>0.014102</td>\n",
       "      <td>0.628170</td>\n",
       "      <td>-0.236057</td>\n",
       "      <td>0.443585</td>\n",
       "      <td>-0.477075</td>\n",
       "      <td>1.000000</td>\n",
       "      <td>0.900000</td>\n",
       "      <td>0.441949</td>\n",
       "      <td>-0.444135</td>\n",
       "      <td>0.510868</td>\n",
       "      <td>-0.416638</td>\n",
       "    </tr>\n",
       "    <tr>\n",
       "      <th>TAX</th>\n",
       "      <td>0.560841</td>\n",
       "      <td>-0.305768</td>\n",
       "      <td>0.734204</td>\n",
       "      <td>-0.026513</td>\n",
       "      <td>0.679824</td>\n",
       "      <td>-0.320561</td>\n",
       "      <td>0.504472</td>\n",
       "      <td>-0.529603</td>\n",
       "      <td>0.900000</td>\n",
       "      <td>1.000000</td>\n",
       "      <td>0.446961</td>\n",
       "      <td>-0.435457</td>\n",
       "      <td>0.572218</td>\n",
       "      <td>-0.508864</td>\n",
       "    </tr>\n",
       "    <tr>\n",
       "      <th>PTRATIO</th>\n",
       "      <td>0.265428</td>\n",
       "      <td>-0.422164</td>\n",
       "      <td>0.395691</td>\n",
       "      <td>-0.104995</td>\n",
       "      <td>0.210216</td>\n",
       "      <td>-0.390686</td>\n",
       "      <td>0.264968</td>\n",
       "      <td>-0.228840</td>\n",
       "      <td>0.441949</td>\n",
       "      <td>0.446961</td>\n",
       "      <td>1.000000</td>\n",
       "      <td>-0.179816</td>\n",
       "      <td>0.395006</td>\n",
       "      <td>-0.543809</td>\n",
       "    </tr>\n",
       "    <tr>\n",
       "      <th>B</th>\n",
       "      <td>-0.386254</td>\n",
       "      <td>0.169894</td>\n",
       "      <td>-0.344788</td>\n",
       "      <td>0.068913</td>\n",
       "      <td>-0.384257</td>\n",
       "      <td>0.123320</td>\n",
       "      <td>-0.281990</td>\n",
       "      <td>0.285168</td>\n",
       "      <td>-0.444135</td>\n",
       "      <td>-0.435457</td>\n",
       "      <td>-0.179816</td>\n",
       "      <td>1.000000</td>\n",
       "      <td>-0.383783</td>\n",
       "      <td>0.347256</td>\n",
       "    </tr>\n",
       "    <tr>\n",
       "      <th>LSTAT</th>\n",
       "      <td>0.461906</td>\n",
       "      <td>-0.415041</td>\n",
       "      <td>0.598156</td>\n",
       "      <td>-0.037113</td>\n",
       "      <td>0.593655</td>\n",
       "      <td>-0.636226</td>\n",
       "      <td>0.601137</td>\n",
       "      <td>-0.505036</td>\n",
       "      <td>0.510868</td>\n",
       "      <td>0.572218</td>\n",
       "      <td>0.395006</td>\n",
       "      <td>-0.383783</td>\n",
       "      <td>1.000000</td>\n",
       "      <td>-0.743450</td>\n",
       "    </tr>\n",
       "    <tr>\n",
       "      <th>MEDV</th>\n",
       "      <td>-0.397230</td>\n",
       "      <td>0.406822</td>\n",
       "      <td>-0.510829</td>\n",
       "      <td>0.173701</td>\n",
       "      <td>-0.459054</td>\n",
       "      <td>0.723951</td>\n",
       "      <td>-0.407470</td>\n",
       "      <td>0.279547</td>\n",
       "      <td>-0.416638</td>\n",
       "      <td>-0.508864</td>\n",
       "      <td>-0.543809</td>\n",
       "      <td>0.347256</td>\n",
       "      <td>-0.743450</td>\n",
       "      <td>1.000000</td>\n",
       "    </tr>\n",
       "  </tbody>\n",
       "</table>\n",
       "</div>"
      ],
      "text/plain": [
       "             CRIM        ZN     INDUS      CHAS       NOX        RM       AGE  \\\n",
       "CRIM     1.000000 -0.188075  0.391552 -0.051970  0.416160 -0.227170  0.341311   \n",
       "ZN      -0.188075  1.000000 -0.521256 -0.033357 -0.515660  0.343210 -0.568174   \n",
       "INDUS    0.391552 -0.521256  1.000000  0.049820  0.762737 -0.403068  0.642387   \n",
       "CHAS    -0.051970 -0.033357  0.049820  1.000000  0.076661  0.095308  0.072644   \n",
       "NOX      0.416160 -0.515660  0.762737  0.076661  1.000000 -0.316563  0.732540   \n",
       "RM      -0.227170  0.343210 -0.403068  0.095308 -0.316563  1.000000 -0.248670   \n",
       "AGE      0.341311 -0.568174  0.642387  0.072644  0.732540 -0.248670  1.000000   \n",
       "DIS     -0.365052  0.645359 -0.696569 -0.095037 -0.768137  0.218713 -0.753547   \n",
       "RAD      0.608667 -0.298773  0.591944  0.014102  0.628170 -0.236057  0.443585   \n",
       "TAX      0.560841 -0.305768  0.734204 -0.026513  0.679824 -0.320561  0.504472   \n",
       "PTRATIO  0.265428 -0.422164  0.395691 -0.104995  0.210216 -0.390686  0.264968   \n",
       "B       -0.386254  0.169894 -0.344788  0.068913 -0.384257  0.123320 -0.281990   \n",
       "LSTAT    0.461906 -0.415041  0.598156 -0.037113  0.593655 -0.636226  0.601137   \n",
       "MEDV    -0.397230  0.406822 -0.510829  0.173701 -0.459054  0.723951 -0.407470   \n",
       "\n",
       "              DIS       RAD       TAX   PTRATIO         B     LSTAT      MEDV  \n",
       "CRIM    -0.365052  0.608667  0.560841  0.265428 -0.386254  0.461906 -0.397230  \n",
       "ZN       0.645359 -0.298773 -0.305768 -0.422164  0.169894 -0.415041  0.406822  \n",
       "INDUS   -0.696569  0.591944  0.734204  0.395691 -0.344788  0.598156 -0.510829  \n",
       "CHAS    -0.095037  0.014102 -0.026513 -0.104995  0.068913 -0.037113  0.173701  \n",
       "NOX     -0.768137  0.628170  0.679824  0.210216 -0.384257  0.593655 -0.459054  \n",
       "RM       0.218713 -0.236057 -0.320561 -0.390686  0.123320 -0.636226  0.723951  \n",
       "AGE     -0.753547  0.443585  0.504472  0.264968 -0.281990  0.601137 -0.407470  \n",
       "DIS      1.000000 -0.477075 -0.529603 -0.228840  0.285168 -0.505036  0.279547  \n",
       "RAD     -0.477075  1.000000  0.900000  0.441949 -0.444135  0.510868 -0.416638  \n",
       "TAX     -0.529603  0.900000  1.000000  0.446961 -0.435457  0.572218 -0.508864  \n",
       "PTRATIO -0.228840  0.441949  0.446961  1.000000 -0.179816  0.395006 -0.543809  \n",
       "B        0.285168 -0.444135 -0.435457 -0.179816  1.000000 -0.383783  0.347256  \n",
       "LSTAT   -0.505036  0.510868  0.572218  0.395006 -0.383783  1.000000 -0.743450  \n",
       "MEDV     0.279547 -0.416638 -0.508864 -0.543809  0.347256 -0.743450  1.000000  "
      ]
     },
     "execution_count": 61,
     "metadata": {},
     "output_type": "execute_result"
    }
   ],
   "source": [
    "data.corr()"
   ]
  },
  {
   "cell_type": "code",
   "execution_count": 62,
   "id": "26085da2",
   "metadata": {},
   "outputs": [
    {
     "data": {
      "text/plain": [
       "<Axes: xlabel='RAD', ylabel='TAX'>"
      ]
     },
     "execution_count": 62,
     "metadata": {},
     "output_type": "execute_result"
    },
    {
     "data": {
      "image/png": "[encoded data removed]",
      "text/plain": [
       "<Figure size 640x480 with 1 Axes>"
      ]
     },
     "metadata": {},
     "output_type": "display_data"
    }
   ],
   "source": [
    "sns.scatterplot(data=data,x=\"RAD\",y=\"TAX\")"
   ]
  },
  {
   "cell_type": "code",
   "execution_count": 63,
   "id": "94ee0abe",
   "metadata": {},
   "outputs": [
    {
     "data": {
      "text/plain": [
       "<Axes: xlabel='RAD', ylabel='TAX'>"
      ]
     },
     "execution_count": 63,
     "metadata": {},
     "output_type": "execute_result"
    },
    {
     "data": {
      "image/png": "[encoded data removed]",
      "text/plain": [
       "<Figure size 640x480 with 1 Axes>"
      ]
     },
     "metadata": {},
     "output_type": "display_data"
    }
   ],
   "source": [
    "sns.regplot(data=data,x=\"RAD\",y=\"TAX\")"
   ]
  },
  {
   "cell_type": "code",
   "execution_count": 64,
   "id": "5b93265d",
   "metadata": {},
   "outputs": [],
   "source": [
    "from sklearn.pipeline import Pipeline\n",
    "pipeline = Pipeline(steps=[\n",
    "    ('scaler', StandardScaler())  # Apply StandardScaler to features\n",
    "])"
   ]
  },
  {
   "cell_type": "code",
   "execution_count": 65,
   "id": "3a6e57ac",
   "metadata": {},
   "outputs": [],
   "source": [
    "xtrain = pipeline.fit_transform(xtrain)\n",
    "xtest = pipeline.transform(xtest)"
   ]
  },
  {
   "cell_type": "code",
   "execution_count": 79,
   "id": "cc94e6fd",
   "metadata": {},
   "outputs": [],
   "source": [
    "from sklearn.linear_model import LinearRegression\n",
    "model=LinearRegression()\n",
    "model.fit(xtrain,ytrain)\n",
    "from sklearn.model_selection import cross_val_score"
   ]
  },
  {
   "cell_type": "code",
   "execution_count": 80,
   "id": "c25b7c06",
   "metadata": {},
   "outputs": [],
   "source": [
    "validation=cross_val_score(model,xtrain,ytrain,scoring=\"neg_mean_absolute_percentage_error\",cv=5)"
   ]
  },
  {
   "cell_type": "code",
   "execution_count": 81,
   "id": "071a5429",
   "metadata": {},
   "outputs": [
    {
     "data": {
      "text/plain": [
       "array([-0.21373776, -0.15721344, -0.1527825 , -0.1667379 , -0.12944131])"
      ]
     },
     "execution_count": 81,
     "metadata": {},
     "output_type": "execute_result"
    }
   ],
   "source": [
    "validation"
   ]
  },
  {
   "cell_type": "code",
   "execution_count": 82,
   "id": "742f7d88",
   "metadata": {},
   "outputs": [
    {
     "data": {
      "text/plain": [
       "-0.1639825821886553"
      ]
     },
     "execution_count": 82,
     "metadata": {},
     "output_type": "execute_result"
    }
   ],
   "source": [
    "np.mean(validation)"
   ]
  },
  {
   "cell_type": "code",
   "execution_count": 83,
   "id": "77a1b826",
   "metadata": {},
   "outputs": [],
   "source": [
    "ypred=model.predict(xtest)"
   ]
  },
  {
   "cell_type": "code",
   "execution_count": 84,
   "id": "87fc1aa2",
   "metadata": {},
   "outputs": [
    {
     "data": {
      "text/plain": [
       "array([20.98839564,  6.35129529, 21.19842646, 19.82532372, 30.64220937,\n",
       "       18.00406838, 24.48615378, 19.76926214, 26.56379349,  3.65342497,\n",
       "        7.92720051, 23.99606069, 19.23951152, 16.04636305, 17.01758724,\n",
       "       22.2093867 , 21.99677068, 18.7580041 , 16.74630396, 16.9109654 ,\n",
       "       21.31283536, 24.95713917, 10.88134306, 11.97479659, 32.49814572,\n",
       "       18.36156907, 14.8977969 , 16.98297365, 16.41588509, 26.84645931,\n",
       "       17.07603182, 31.55884366, 35.82830429,  9.89965835, 20.7455784 ,\n",
       "       14.9042678 , 23.64981745, 36.32632973, 34.65091376, 14.56647329,\n",
       "       21.1253529 , 24.79063641, 19.41254385, 19.97740011, 23.5905997 ,\n",
       "       28.41975592, 13.90847236, 17.09606554, 36.7359154 , 13.66219039,\n",
       "       20.13786832, 12.12447119, 12.94584289, 24.78511634, 12.65009282,\n",
       "       17.13246311, 35.84795897,  8.98111915, 38.46180409, 18.70372278,\n",
       "       20.68586805, 22.0122774 , 21.40766617, 25.7691754 , 33.2116951 ,\n",
       "       41.29266374, 16.48640999, 25.59392973, 14.40035082, 14.0241242 ,\n",
       "       27.42679552, 15.78415794,  9.14411196, 24.16174844, 18.17216829,\n",
       "       20.56076842, 12.30386068, 28.43230543, 20.5436228 , 24.5622435 ,\n",
       "       16.830001  ,  8.85725008, 22.17569531, 24.76854393, 25.33728518,\n",
       "       29.38856161, 17.05628673, 17.57323656, 25.77928064, 27.74419693,\n",
       "       11.55616705, 33.4010549 , 40.27907439, 34.99385218, 27.29398621,\n",
       "       25.83280066, 27.6282313 , 25.29011529, 32.26888339])"
      ]
     },
     "execution_count": 84,
     "metadata": {},
     "output_type": "execute_result"
    }
   ],
   "source": [
    "ypred"
   ]
  },
  {
   "cell_type": "markdown",
   "id": "7221b8dd",
   "metadata": {},
   "source": [
    "## Assumption"
   ]
  },
  {
   "cell_type": "code",
   "execution_count": 85,
   "id": "1bee5012",
   "metadata": {},
   "outputs": [
    {
     "data": {
      "text/plain": [
       "<matplotlib.collections.PathCollection at 0x289ab7750>"
      ]
     },
     "execution_count": 85,
     "metadata": {},
     "output_type": "execute_result"
    },
    {
     "data": {
      "image/png": "[encoded data removed]",
      "text/plain": [
       "<Figure size 640x480 with 1 Axes>"
      ]
     },
     "metadata": {},
     "output_type": "display_data"
    }
   ],
   "source": [
    "plt.scatter(ytest,ypred)"
   ]
  },
  {
   "cell_type": "code",
   "execution_count": 86,
   "id": "ac34f212",
   "metadata": {},
   "outputs": [
    {
     "data": {
      "text/plain": [
       "476   -4.288396\n",
       "418    2.448705\n",
       "29    -0.198426\n",
       "315   -3.625324\n",
       "199    4.257791\n",
       "         ...   \n",
       "503   -3.393986\n",
       "174   -3.232801\n",
       "85    -1.028231\n",
       "252    4.309885\n",
       "188   -2.468883\n",
       "Name: MEDV, Length: 99, dtype: float64"
      ]
     },
     "execution_count": 86,
     "metadata": {},
     "output_type": "execute_result"
    }
   ],
   "source": [
    "residuals=ytest-ypred\n",
    "residuals"
   ]
  },
  {
   "cell_type": "code",
   "execution_count": 87,
   "id": "3fb8e436",
   "metadata": {},
   "outputs": [
    {
     "name": "stderr",
     "output_type": "stream",
     "text": [
      "/Users/sharafunneesapp/anaconda3/lib/python3.11/site-packages/seaborn/axisgrid.py:118: UserWarning: The figure layout has changed to tight\n",
      "  self._figure.tight_layout(*args, **kwargs)\n"
     ]
    },
    {
     "data": {
      "text/plain": [
       "<seaborn.axisgrid.FacetGrid at 0x289a99490>"
      ]
     },
     "execution_count": 87,
     "metadata": {},
     "output_type": "execute_result"
    },
    {
     "data": {
      "image/png": "[encoded data removed]",
      "text/plain": [
       "<Figure size 500x500 with 1 Axes>"
      ]
     },
     "metadata": {},
     "output_type": "display_data"
    }
   ],
   "source": [
    "sns.displot(residuals,kind=\"kde\")"
   ]
  },
  {
   "cell_type": "code",
   "execution_count": null,
   "id": "04494d1f",
   "metadata": {},
   "outputs": [],
   "source": []
  }
 ],
 "metadata": {
  "kernelspec": {
   "display_name": "Python 3 (ipykernel)",
   "language": "python",
   "name": "python3"
  },
  "language_info": {
   "codemirror_mode": {
    "name": "ipython",
    "version": 3
   },
   "file_extension": ".py",
   "mimetype": "text/x-python",
   "name": "python",
   "nbconvert_exporter": "python",
   "pygments_lexer": "ipython3",
   "version": "3.11.5"
  }
 },
 "nbformat": 4,
 "nbformat_minor": 5
}
